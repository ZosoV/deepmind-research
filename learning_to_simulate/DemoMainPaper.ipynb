{
  "nbformat": 4,
  "nbformat_minor": 0,
  "metadata": {
    "colab": {
      "name": "DemoMainPaper.ipynb",
      "provenance": [],
      "collapsed_sections": []
    },
    "kernelspec": {
      "name": "python3",
      "display_name": "Python 3"
    }
  },
  "cells": [
    {
      "cell_type": "code",
      "metadata": {
        "id": "O2mgLOaigFLf"
      },
      "source": [
        "%matplotlib inline"
      ],
      "execution_count": null,
      "outputs": []
    },
    {
      "cell_type": "markdown",
      "metadata": {
        "id": "3Qxcos_6X89z"
      },
      "source": [
        "Install Requierements and Create Directories"
      ]
    },
    {
      "cell_type": "code",
      "metadata": {
        "id": "KyIky7PGXwG3"
      },
      "source": [
        "! pip install -r learning_to_simulate/requirements.txt\n",
        "! mkdir -p /tmp/rollous"
      ],
      "execution_count": null,
      "outputs": []
    },
    {
      "cell_type": "markdown",
      "metadata": {
        "id": "-hiRqa_4aQ4z"
      },
      "source": [
        "Download dataset (e.g. WaterRamps):"
      ]
    },
    {
      "cell_type": "code",
      "metadata": {
        "id": "WkNlENyvaSp_"
      },
      "source": [
        "mkdir -p /tmp/datasets\n",
        "bash ./learning_to_simulate/download_dataset.sh WaterRamps /tmp/datasets"
      ],
      "execution_count": null,
      "outputs": []
    },
    {
      "cell_type": "markdown",
      "metadata": {
        "id": "MSYT9ofuYKP0"
      },
      "source": [
        "Train Model"
      ]
    },
    {
      "cell_type": "code",
      "metadata": {
        "id": "f8gsrKhlZJ_a",
        "colab": {
          "base_uri": "https://localhost:8080/"
        },
        "outputId": "a34c4b74-df0d-4047-953c-3f5e1e6db524"
      },
      "source": [
        "! ls /tmp/datasets/"
      ],
      "execution_count": null,
      "outputs": [
        {
          "output_type": "stream",
          "text": [
            "WaterDropSample  WaterRamps\r\n"
          ],
          "name": "stdout"
        }
      ]
    },
    {
      "cell_type": "code",
      "metadata": {
        "id": "MF-vgf6iYMZn",
        "colab": {
          "base_uri": "https://localhost:8080/"
        },
        "outputId": "867ab028-b3d5-4274-afbe-3c08e0808bfe"
      },
      "source": [
        "! mkdir -p /tmp/models\n",
        "! python -m learning_to_simulate.train \\\n",
        "    --data_path=/tmp/datasets/WaterDropSample \\\n",
        "    --model_path=/tmp/models/WaterDropSample"
      ],
      "execution_count": null,
      "outputs": [
        {
          "output_type": "stream",
          "text": [
            "WARNING:tensorflow:From /home/zoso/anaconda3/envs/learn-simulate/lib/python3.6/site-packages/tensorflow_core/python/compat/v2_compat.py:68: disable_resource_variables (from tensorflow.python.ops.variable_scope) is deprecated and will be removed in a future version.\r\n",
            "Instructions for updating:\r\n",
            "non-resource variables are not supported in the long term\r\n",
            "INFO:tensorflow:Using default config.\r\n",
            "I1112 21:21:10.731079 140057676257088 estimator.py:1800] Using default config.\r\n",
            "INFO:tensorflow:Using config: {'_model_dir': '/tmp/models/WaterDropSample', '_tf_random_seed': None, '_save_summary_steps': 100, '_save_checkpoints_steps': None, '_save_checkpoints_secs': 600, '_session_config': allow_soft_placement: true\r\n",
            "graph_options {\r\n",
            "  rewrite_options {\r\n",
            "    meta_optimizer_iterations: ONE\r\n",
            "  }\r\n",
            "}\r\n",
            ", '_keep_checkpoint_max': 5, '_keep_checkpoint_every_n_hours': 10000, '_log_step_count_steps': 100, '_train_distribute': None, '_device_fn': None, '_protocol': None, '_eval_distribute': None, '_experimental_distribute': None, '_experimental_max_worker_delay_secs': None, '_session_creation_timeout_secs': 7200, '_service': None, '_cluster_spec': <tensorflow.python.training.server_lib.ClusterSpec object at 0x7f61a6ec3fd0>, '_task_type': 'worker', '_task_id': 0, '_global_id_in_cluster': 0, '_master': '', '_evaluation_master': '', '_is_chief': True, '_num_ps_replicas': 0, '_num_worker_replicas': 1}\r\n",
            "I1112 21:21:10.731588 140057676257088 estimator.py:212] Using config: {'_model_dir': '/tmp/models/WaterDropSample', '_tf_random_seed': None, '_save_summary_steps': 100, '_save_checkpoints_steps': None, '_save_checkpoints_secs': 600, '_session_config': allow_soft_placement: true\r\n",
            "graph_options {\r\n",
            "  rewrite_options {\r\n",
            "    meta_optimizer_iterations: ONE\r\n",
            "  }\r\n",
            "}\r\n",
            ", '_keep_checkpoint_max': 5, '_keep_checkpoint_every_n_hours': 10000, '_log_step_count_steps': 100, '_train_distribute': None, '_device_fn': None, '_protocol': None, '_eval_distribute': None, '_experimental_distribute': None, '_experimental_max_worker_delay_secs': None, '_session_creation_timeout_secs': 7200, '_service': None, '_cluster_spec': <tensorflow.python.training.server_lib.ClusterSpec object at 0x7f61a6ec3fd0>, '_task_type': 'worker', '_task_id': 0, '_global_id_in_cluster': 0, '_master': '', '_evaluation_master': '', '_is_chief': True, '_num_ps_replicas': 0, '_num_worker_replicas': 1}\r\n",
            "WARNING:tensorflow:From /home/zoso/anaconda3/envs/learn-simulate/lib/python3.6/site-packages/tensorflow_core/python/training/training_util.py:236: Variable.initialized_value (from tensorflow.python.ops.variables) is deprecated and will be removed in a future version.\r\n",
            "Instructions for updating:\r\n",
            "Use Variable.read_value. Variables in 2.X are initialized automatically both in eager and graph (inside tf.defun) contexts.\r\n",
            "W1112 21:21:10.738677 140057676257088 deprecation.py:323] From /home/zoso/anaconda3/envs/learn-simulate/lib/python3.6/site-packages/tensorflow_core/python/training/training_util.py:236: Variable.initialized_value (from tensorflow.python.ops.variables) is deprecated and will be removed in a future version.\r\n",
            "Instructions for updating:\r\n",
            "Use Variable.read_value. Variables in 2.X are initialized automatically both in eager and graph (inside tf.defun) contexts.\n",
            "WARNING:tensorflow:Entity <function _yield_value at 0x7f6175e14048> appears to be a generator function. It will not be converted by AutoGraph.\n",
            "W1112 21:21:14.530465 140057676257088 ag_logging.py:146] Entity <function _yield_value at 0x7f6175e14048> appears to be a generator function. It will not be converted by AutoGraph.\n",
            "INFO:tensorflow:Calling model_fn.\n",
            "I1112 21:21:15.231057 140057676257088 estimator.py:1148] Calling model_fn.\n",
            "WARNING:tensorflow:From /home/zoso/anaconda3/envs/learn-simulate/lib/python3.6/site-packages/tensorflow_core/python/ops/resource_variable_ops.py:1630: calling BaseResourceVariable.__init__ (from tensorflow.python.ops.resource_variable_ops) with constraint is deprecated and will be removed in a future version.\n",
            "Instructions for updating:\n",
            "If using Keras pass *_constraint arguments to layers.\n",
            "W1112 21:21:15.308032 140057676257088 deprecation.py:506] From /home/zoso/anaconda3/envs/learn-simulate/lib/python3.6/site-packages/tensorflow_core/python/ops/resource_variable_ops.py:1630: calling BaseResourceVariable.__init__ (from tensorflow.python.ops.resource_variable_ops) with constraint is deprecated and will be removed in a future version.\n",
            "Instructions for updating:\n",
            "If using Keras pass *_constraint arguments to layers.\n",
            "WARNING:tensorflow:From /home/zoso/anaconda3/envs/learn-simulate/lib/python3.6/site-packages/sonnet/python/modules/basic.py:127: calling TruncatedNormal.__init__ (from tensorflow.python.ops.init_ops) with dtype is deprecated and will be removed in a future version.\n",
            "Instructions for updating:\n",
            "Call initializer instance with the dtype argument instead of passing it to the constructor\n",
            "W1112 21:21:15.397870 140057676257088 deprecation.py:506] From /home/zoso/anaconda3/envs/learn-simulate/lib/python3.6/site-packages/sonnet/python/modules/basic.py:127: calling TruncatedNormal.__init__ (from tensorflow.python.ops.init_ops) with dtype is deprecated and will be removed in a future version.\n",
            "Instructions for updating:\n",
            "Call initializer instance with the dtype argument instead of passing it to the constructor\n",
            "WARNING:tensorflow:From /home/zoso/anaconda3/envs/learn-simulate/lib/python3.6/site-packages/sonnet/python/modules/basic.py:132: calling Zeros.__init__ (from tensorflow.python.ops.init_ops) with dtype is deprecated and will be removed in a future version.\n",
            "Instructions for updating:\n",
            "Call initializer instance with the dtype argument instead of passing it to the constructor\n",
            "W1112 21:21:15.398297 140057676257088 deprecation.py:506] From /home/zoso/anaconda3/envs/learn-simulate/lib/python3.6/site-packages/sonnet/python/modules/basic.py:132: calling Zeros.__init__ (from tensorflow.python.ops.init_ops) with dtype is deprecated and will be removed in a future version.\n",
            "Instructions for updating:\n",
            "Call initializer instance with the dtype argument instead of passing it to the constructor\n",
            "WARNING:tensorflow:From /home/zoso/MEGAsync/PROJECTS/GAN/Codes/deepmind-research/learning_to_simulate/train.py:348: where (from tensorflow.python.ops.array_ops) is deprecated and will be removed in a future version.\n",
            "Instructions for updating:\n",
            "Use tf.where in 2.0, which has the same broadcast rule as np.where\n",
            "W1112 21:21:16.768940 140057676257088 deprecation.py:323] From /home/zoso/MEGAsync/PROJECTS/GAN/Codes/deepmind-research/learning_to_simulate/train.py:348: where (from tensorflow.python.ops.array_ops) is deprecated and will be removed in a future version.\n",
            "Instructions for updating:\n",
            "Use tf.where in 2.0, which has the same broadcast rule as np.where\n",
            "/home/zoso/anaconda3/envs/learn-simulate/lib/python3.6/site-packages/tensorflow_core/python/framework/indexed_slices.py:424: UserWarning: Converting sparse IndexedSlices to a dense Tensor of unknown shape. This may consume a large amount of memory.\n",
            "  \"Converting sparse IndexedSlices to a dense Tensor of unknown shape. \"\n",
            "/home/zoso/anaconda3/envs/learn-simulate/lib/python3.6/site-packages/tensorflow_core/python/framework/indexed_slices.py:424: UserWarning: Converting sparse IndexedSlices to a dense Tensor of unknown shape. This may consume a large amount of memory.\n",
            "  \"Converting sparse IndexedSlices to a dense Tensor of unknown shape. \"\n",
            "/home/zoso/anaconda3/envs/learn-simulate/lib/python3.6/site-packages/tensorflow_core/python/framework/indexed_slices.py:424: UserWarning: Converting sparse IndexedSlices to a dense Tensor of unknown shape. This may consume a large amount of memory.\n",
            "  \"Converting sparse IndexedSlices to a dense Tensor of unknown shape. \"\n",
            "/home/zoso/anaconda3/envs/learn-simulate/lib/python3.6/site-packages/tensorflow_core/python/framework/indexed_slices.py:424: UserWarning: Converting sparse IndexedSlices to a dense Tensor of unknown shape. This may consume a large amount of memory.\n",
            "  \"Converting sparse IndexedSlices to a dense Tensor of unknown shape. \"\n",
            "/home/zoso/anaconda3/envs/learn-simulate/lib/python3.6/site-packages/tensorflow_core/python/framework/indexed_slices.py:424: UserWarning: Converting sparse IndexedSlices to a dense Tensor of unknown shape. This may consume a large amount of memory.\n",
            "  \"Converting sparse IndexedSlices to a dense Tensor of unknown shape. \"\n",
            "/home/zoso/anaconda3/envs/learn-simulate/lib/python3.6/site-packages/tensorflow_core/python/framework/indexed_slices.py:424: UserWarning: Converting sparse IndexedSlices to a dense Tensor of unknown shape. This may consume a large amount of memory.\n",
            "  \"Converting sparse IndexedSlices to a dense Tensor of unknown shape. \"\n",
            "/home/zoso/anaconda3/envs/learn-simulate/lib/python3.6/site-packages/tensorflow_core/python/framework/indexed_slices.py:424: UserWarning: Converting sparse IndexedSlices to a dense Tensor of unknown shape. This may consume a large amount of memory.\n",
            "  \"Converting sparse IndexedSlices to a dense Tensor of unknown shape. \"\n",
            "/home/zoso/anaconda3/envs/learn-simulate/lib/python3.6/site-packages/tensorflow_core/python/framework/indexed_slices.py:424: UserWarning: Converting sparse IndexedSlices to a dense Tensor of unknown shape. This may consume a large amount of memory.\n",
            "  \"Converting sparse IndexedSlices to a dense Tensor of unknown shape. \"\n",
            "/home/zoso/anaconda3/envs/learn-simulate/lib/python3.6/site-packages/tensorflow_core/python/framework/indexed_slices.py:424: UserWarning: Converting sparse IndexedSlices to a dense Tensor of unknown shape. This may consume a large amount of memory.\n",
            "  \"Converting sparse IndexedSlices to a dense Tensor of unknown shape. \"\n",
            "/home/zoso/anaconda3/envs/learn-simulate/lib/python3.6/site-packages/tensorflow_core/python/framework/indexed_slices.py:424: UserWarning: Converting sparse IndexedSlices to a dense Tensor of unknown shape. This may consume a large amount of memory.\n",
            "  \"Converting sparse IndexedSlices to a dense Tensor of unknown shape. \"\n",
            "INFO:tensorflow:Done calling model_fn.\n",
            "I1112 21:21:22.085685 140057676257088 estimator.py:1150] Done calling model_fn.\n",
            "INFO:tensorflow:Create CheckpointSaverHook.\n",
            "I1112 21:21:22.087383 140057676257088 basic_session_run_hooks.py:541] Create CheckpointSaverHook.\n",
            "INFO:tensorflow:Graph was finalized.\n",
            "I1112 21:21:24.545798 140057676257088 monitored_session.py:240] Graph was finalized.\n",
            "2020-11-12 21:21:24.546094: I tensorflow/core/platform/cpu_feature_guard.cc:142] Your CPU supports instructions that this TensorFlow binary was not compiled to use: AVX2 FMA\n",
            "2020-11-12 21:21:24.566674: I tensorflow/core/platform/profile_utils/cpu_utils.cc:94] CPU Frequency: 2799925000 Hz\n",
            "2020-11-12 21:21:24.567104: I tensorflow/compiler/xla/service/service.cc:168] XLA service 0x56374171d690 initialized for platform Host (this does not guarantee that XLA will be used). Devices:\n",
            "2020-11-12 21:21:24.567137: I tensorflow/compiler/xla/service/service.cc:176]   StreamExecutor device (0): Host, Default Version\n",
            "INFO:tensorflow:Running local_init_op.\n",
            "I1112 21:21:26.430770 140057676257088 session_manager.py:500] Running local_init_op.\n",
            "INFO:tensorflow:Done running local_init_op.\n",
            "I1112 21:21:26.692630 140057676257088 session_manager.py:502] Done running local_init_op.\n",
            "INFO:tensorflow:Saving checkpoints for 0 into /tmp/models/WaterDropSample/model.ckpt.\n",
            "I1112 21:21:33.075510 140057676257088 basic_session_run_hooks.py:606] Saving checkpoints for 0 into /tmp/models/WaterDropSample/model.ckpt.\n",
            "2020-11-12 21:21:38.913193: W tensorflow/core/framework/cpu_allocator_impl.cc:81] Allocation of 37778160 exceeds 10% of system memory.\n",
            "INFO:tensorflow:loss = 6.951797, step = 1\n",
            "I1112 21:21:39.737934 140057676257088 basic_session_run_hooks.py:262] loss = 6.951797, step = 1\n",
            "INFO:tensorflow:global_step/sec: 1.30892\n",
            "I1112 21:22:56.136449 140057676257088 basic_session_run_hooks.py:692] global_step/sec: 1.30892\n",
            "INFO:tensorflow:loss = 0.5846472, step = 101 (76.399 sec)\n",
            "I1112 21:22:56.137072 140057676257088 basic_session_run_hooks.py:260] loss = 0.5846472, step = 101 (76.399 sec)\n",
            "INFO:tensorflow:global_step/sec: 1.21276\n",
            "I1112 21:24:18.593297 140057676257088 basic_session_run_hooks.py:692] global_step/sec: 1.21276\n",
            "INFO:tensorflow:loss = 0.25673848, step = 201 (82.457 sec)\n",
            "I1112 21:24:18.593863 140057676257088 basic_session_run_hooks.py:260] loss = 0.25673848, step = 201 (82.457 sec)\n",
            "INFO:tensorflow:global_step/sec: 1.29412\n",
            "I1112 21:25:35.866104 140057676257088 basic_session_run_hooks.py:692] global_step/sec: 1.29412\n",
            "INFO:tensorflow:loss = 0.19419874, step = 301 (77.273 sec)\n",
            "I1112 21:25:35.866682 140057676257088 basic_session_run_hooks.py:260] loss = 0.19419874, step = 301 (77.273 sec)\n",
            "INFO:tensorflow:global_step/sec: 1.62046\n",
            "I1112 21:26:37.576836 140057676257088 basic_session_run_hooks.py:692] global_step/sec: 1.62046\n",
            "INFO:tensorflow:loss = 0.119238436, step = 401 (61.711 sec)\n",
            "I1112 21:26:37.577426 140057676257088 basic_session_run_hooks.py:260] loss = 0.119238436, step = 401 (61.711 sec)\n",
            "INFO:tensorflow:global_step/sec: 1.76438\n",
            "I1112 21:27:34.254079 140057676257088 basic_session_run_hooks.py:692] global_step/sec: 1.76438\n",
            "INFO:tensorflow:loss = 0.30083793, step = 501 (56.677 sec)\n",
            "I1112 21:27:34.254849 140057676257088 basic_session_run_hooks.py:260] loss = 0.30083793, step = 501 (56.677 sec)\n",
            "INFO:tensorflow:global_step/sec: 1.56027\n",
            "I1112 21:28:38.345643 140057676257088 basic_session_run_hooks.py:692] global_step/sec: 1.56027\n",
            "INFO:tensorflow:loss = 1.133552, step = 601 (64.091 sec)\n",
            "I1112 21:28:38.346329 140057676257088 basic_session_run_hooks.py:260] loss = 1.133552, step = 601 (64.091 sec)\n",
            "INFO:tensorflow:global_step/sec: 1.77442\n",
            "I1112 21:29:34.702172 140057676257088 basic_session_run_hooks.py:692] global_step/sec: 1.77442\n",
            "INFO:tensorflow:loss = 0.13614182, step = 701 (56.357 sec)\n",
            "I1112 21:29:34.702855 140057676257088 basic_session_run_hooks.py:260] loss = 0.13614182, step = 701 (56.357 sec)\n",
            "2020-11-12 21:30:00.287127: W tensorflow/core/framework/cpu_allocator_impl.cc:81] Allocation of 37778160 exceeds 10% of system memory.\n",
            "INFO:tensorflow:global_step/sec: 1.62794\n",
            "I1112 21:30:36.129669 140057676257088 basic_session_run_hooks.py:692] global_step/sec: 1.62794\n",
            "INFO:tensorflow:loss = 0.10060156, step = 801 (61.428 sec)\n",
            "I1112 21:30:36.130563 140057676257088 basic_session_run_hooks.py:260] loss = 0.10060156, step = 801 (61.428 sec)\n",
            "INFO:tensorflow:Saving checkpoints for 896 into /tmp/models/WaterDropSample/model.ckpt.\n",
            "I1112 21:31:34.729117 140057676257088 basic_session_run_hooks.py:606] Saving checkpoints for 896 into /tmp/models/WaterDropSample/model.ckpt.\n",
            "INFO:tensorflow:global_step/sec: 1.54552\n",
            "I1112 21:31:40.832666 140057676257088 basic_session_run_hooks.py:692] global_step/sec: 1.54552\n",
            "INFO:tensorflow:loss = 0.6141328, step = 901 (64.703 sec)\n",
            "I1112 21:31:40.833360 140057676257088 basic_session_run_hooks.py:260] loss = 0.6141328, step = 901 (64.703 sec)\n",
            "INFO:tensorflow:global_step/sec: 1.56845\n",
            "I1112 21:32:44.589920 140057676257088 basic_session_run_hooks.py:692] global_step/sec: 1.56845\n",
            "INFO:tensorflow:loss = 0.22629209, step = 1001 (63.757 sec)\n",
            "I1112 21:32:44.590394 140057676257088 basic_session_run_hooks.py:260] loss = 0.22629209, step = 1001 (63.757 sec)\n",
            "INFO:tensorflow:global_step/sec: 1.38264\n",
            "I1112 21:33:56.915125 140057676257088 basic_session_run_hooks.py:692] global_step/sec: 1.38264\n",
            "INFO:tensorflow:loss = 0.18483438, step = 1101 (72.325 sec)\n",
            "I1112 21:33:56.915735 140057676257088 basic_session_run_hooks.py:260] loss = 0.18483438, step = 1101 (72.325 sec)\n",
            "INFO:tensorflow:global_step/sec: 1.2911\n",
            "I1112 21:35:14.368658 140057676257088 basic_session_run_hooks.py:692] global_step/sec: 1.2911\n",
            "INFO:tensorflow:loss = 0.094940454, step = 1201 (77.453 sec)\n",
            "I1112 21:35:14.369182 140057676257088 basic_session_run_hooks.py:260] loss = 0.094940454, step = 1201 (77.453 sec)\n",
            "INFO:tensorflow:global_step/sec: 1.10089\n",
            "I1112 21:36:45.204387 140057676257088 basic_session_run_hooks.py:692] global_step/sec: 1.10089\n",
            "INFO:tensorflow:loss = 0.1279013, step = 1301 (90.836 sec)\n",
            "I1112 21:36:45.204953 140057676257088 basic_session_run_hooks.py:260] loss = 0.1279013, step = 1301 (90.836 sec)\n",
            "INFO:tensorflow:global_step/sec: 1.53559\n",
            "I1112 21:37:50.325948 140057676257088 basic_session_run_hooks.py:692] global_step/sec: 1.53559\n",
            "INFO:tensorflow:loss = 0.07543519, step = 1401 (65.123 sec)\n",
            "I1112 21:37:50.327790 140057676257088 basic_session_run_hooks.py:260] loss = 0.07543519, step = 1401 (65.123 sec)\n",
            "INFO:tensorflow:global_step/sec: 1.76105\n",
            "I1112 21:38:47.109882 140057676257088 basic_session_run_hooks.py:692] global_step/sec: 1.76105\n",
            "INFO:tensorflow:loss = 0.44940743, step = 1501 (56.783 sec)\n",
            "I1112 21:38:47.110474 140057676257088 basic_session_run_hooks.py:260] loss = 0.44940743, step = 1501 (56.783 sec)\n",
            "INFO:tensorflow:global_step/sec: 1.74183\n",
            "I1112 21:39:44.521189 140057676257088 basic_session_run_hooks.py:692] global_step/sec: 1.74183\n",
            "INFO:tensorflow:loss = 0.068668336, step = 1601 (57.413 sec)\n",
            "I1112 21:39:44.523217 140057676257088 basic_session_run_hooks.py:260] loss = 0.068668336, step = 1601 (57.413 sec)\n"
          ],
          "name": "stdout"
        }
      ]
    },
    {
      "cell_type": "markdown",
      "metadata": {
        "id": "S0Azdt0Zacy5"
      },
      "source": [
        "Generate some trajectory rollouts on the test set:\n"
      ]
    },
    {
      "cell_type": "code",
      "metadata": {
        "id": "lpukuhhjebCN",
        "colab": {
          "base_uri": "https://localhost:8080/"
        },
        "outputId": "560324ff-7d3a-4cef-8bfc-4dc0657fa77b"
      },
      "source": [
        "! ls"
      ],
      "execution_count": null,
      "outputs": [
        {
          "output_type": "stream",
          "text": [
            "learning_to_simulate\r\n"
          ],
          "name": "stdout"
        }
      ]
    },
    {
      "cell_type": "code",
      "metadata": {
        "id": "9yo_en3xackT",
        "colab": {
          "base_uri": "https://localhost:8080/"
        },
        "outputId": "ba8362d3-af8e-4b78-9c15-87aa03d3f459"
      },
      "source": [
        "! mkdir -p /tmp/rollouts\n",
        "! python -m learning_to_simulate.train \\\n",
        "    --mode=\"eval_rollout\" \\\n",
        "    --data_path=/tmp/datasets/WaterDropSample \\\n",
        "    --model_path=/tmp/models/WaterDropSample \\\n",
        "    --output_path=/tmp/rollouts/WaterDropSample"
      ],
      "execution_count": null,
      "outputs": [
        {
          "output_type": "stream",
          "text": [
            "WARNING:tensorflow:From /home/zoso/anaconda3/envs/learn-simulate/lib/python3.6/site-packages/tensorflow_core/python/compat/v2_compat.py:68: disable_resource_variables (from tensorflow.python.ops.variable_scope) is deprecated and will be removed in a future version.\r\n",
            "Instructions for updating:\r\n",
            "non-resource variables are not supported in the long term\r\n",
            "INFO:tensorflow:Using default config.\r\n",
            "I1112 21:40:37.445545 140265394267968 estimator.py:1800] Using default config.\r\n",
            "INFO:tensorflow:Using config: {'_model_dir': '/tmp/models/WaterDropSample', '_tf_random_seed': None, '_save_summary_steps': 100, '_save_checkpoints_steps': None, '_save_checkpoints_secs': 600, '_session_config': allow_soft_placement: true\r\n",
            "graph_options {\r\n",
            "  rewrite_options {\r\n",
            "    meta_optimizer_iterations: ONE\r\n",
            "  }\r\n",
            "}\r\n",
            ", '_keep_checkpoint_max': 5, '_keep_checkpoint_every_n_hours': 10000, '_log_step_count_steps': 100, '_train_distribute': None, '_device_fn': None, '_protocol': None, '_eval_distribute': None, '_experimental_distribute': None, '_experimental_max_worker_delay_secs': None, '_session_creation_timeout_secs': 7200, '_service': None, '_cluster_spec': <tensorflow.python.training.server_lib.ClusterSpec object at 0x7f9203e17e10>, '_task_type': 'worker', '_task_id': 0, '_global_id_in_cluster': 0, '_master': '', '_evaluation_master': '', '_is_chief': True, '_num_ps_replicas': 0, '_num_worker_replicas': 1}\r\n",
            "I1112 21:40:37.445938 140265394267968 estimator.py:212] Using config: {'_model_dir': '/tmp/models/WaterDropSample', '_tf_random_seed': None, '_save_summary_steps': 100, '_save_checkpoints_steps': None, '_save_checkpoints_secs': 600, '_session_config': allow_soft_placement: true\r\n",
            "graph_options {\r\n",
            "  rewrite_options {\r\n",
            "    meta_optimizer_iterations: ONE\r\n",
            "  }\r\n",
            "}\r\n",
            ", '_keep_checkpoint_max': 5, '_keep_checkpoint_every_n_hours': 10000, '_log_step_count_steps': 100, '_train_distribute': None, '_device_fn': None, '_protocol': None, '_eval_distribute': None, '_experimental_distribute': None, '_experimental_max_worker_delay_secs': None, '_session_creation_timeout_secs': 7200, '_service': None, '_cluster_spec': <tensorflow.python.training.server_lib.ClusterSpec object at 0x7f9203e17e10>, '_task_type': 'worker', '_task_id': 0, '_global_id_in_cluster': 0, '_master': '', '_evaluation_master': '', '_is_chief': True, '_num_ps_replicas': 0, '_num_worker_replicas': 1}\n",
            "INFO:tensorflow:Calling model_fn.\n",
            "I1112 21:40:37.964983 140265394267968 estimator.py:1148] Calling model_fn.\n",
            "WARNING:tensorflow:From /home/zoso/anaconda3/envs/learn-simulate/lib/python3.6/site-packages/tensorflow_core/python/ops/resource_variable_ops.py:1630: calling BaseResourceVariable.__init__ (from tensorflow.python.ops.resource_variable_ops) with constraint is deprecated and will be removed in a future version.\n",
            "Instructions for updating:\n",
            "If using Keras pass *_constraint arguments to layers.\n",
            "W1112 21:40:38.028498 140265394267968 deprecation.py:506] From /home/zoso/anaconda3/envs/learn-simulate/lib/python3.6/site-packages/tensorflow_core/python/ops/resource_variable_ops.py:1630: calling BaseResourceVariable.__init__ (from tensorflow.python.ops.resource_variable_ops) with constraint is deprecated and will be removed in a future version.\n",
            "Instructions for updating:\n",
            "If using Keras pass *_constraint arguments to layers.\n",
            "WARNING:tensorflow:From /home/zoso/anaconda3/envs/learn-simulate/lib/python3.6/site-packages/sonnet/python/modules/basic.py:127: calling TruncatedNormal.__init__ (from tensorflow.python.ops.init_ops) with dtype is deprecated and will be removed in a future version.\n",
            "Instructions for updating:\n",
            "Call initializer instance with the dtype argument instead of passing it to the constructor\n",
            "W1112 21:40:38.086161 140265394267968 deprecation.py:506] From /home/zoso/anaconda3/envs/learn-simulate/lib/python3.6/site-packages/sonnet/python/modules/basic.py:127: calling TruncatedNormal.__init__ (from tensorflow.python.ops.init_ops) with dtype is deprecated and will be removed in a future version.\n",
            "Instructions for updating:\n",
            "Call initializer instance with the dtype argument instead of passing it to the constructor\n",
            "WARNING:tensorflow:From /home/zoso/anaconda3/envs/learn-simulate/lib/python3.6/site-packages/sonnet/python/modules/basic.py:132: calling Zeros.__init__ (from tensorflow.python.ops.init_ops) with dtype is deprecated and will be removed in a future version.\n",
            "Instructions for updating:\n",
            "Call initializer instance with the dtype argument instead of passing it to the constructor\n",
            "W1112 21:40:38.086367 140265394267968 deprecation.py:506] From /home/zoso/anaconda3/envs/learn-simulate/lib/python3.6/site-packages/sonnet/python/modules/basic.py:132: calling Zeros.__init__ (from tensorflow.python.ops.init_ops) with dtype is deprecated and will be removed in a future version.\n",
            "Instructions for updating:\n",
            "Call initializer instance with the dtype argument instead of passing it to the constructor\n",
            "WARNING:tensorflow:From /home/zoso/MEGAsync/PROJECTS/GAN/Codes/deepmind-research/learning_to_simulate/train.py:242: where (from tensorflow.python.ops.array_ops) is deprecated and will be removed in a future version.\n",
            "Instructions for updating:\n",
            "Use tf.where in 2.0, which has the same broadcast rule as np.where\n",
            "W1112 21:40:39.741939 140265394267968 deprecation.py:323] From /home/zoso/MEGAsync/PROJECTS/GAN/Codes/deepmind-research/learning_to_simulate/train.py:242: where (from tensorflow.python.ops.array_ops) is deprecated and will be removed in a future version.\n",
            "Instructions for updating:\n",
            "Use tf.where in 2.0, which has the same broadcast rule as np.where\n",
            "INFO:tensorflow:Done calling model_fn.\n",
            "I1112 21:40:39.790754 140265394267968 estimator.py:1150] Done calling model_fn.\n",
            "INFO:tensorflow:Graph was finalized.\n",
            "I1112 21:40:40.224536 140265394267968 monitored_session.py:240] Graph was finalized.\n",
            "2020-11-12 21:40:40.224835: I tensorflow/core/platform/cpu_feature_guard.cc:142] Your CPU supports instructions that this TensorFlow binary was not compiled to use: AVX2 FMA\n",
            "2020-11-12 21:40:40.250961: I tensorflow/core/platform/profile_utils/cpu_utils.cc:94] CPU Frequency: 2799925000 Hz\n",
            "2020-11-12 21:40:40.251374: I tensorflow/compiler/xla/service/service.cc:168] XLA service 0x5626ae043f70 initialized for platform Host (this does not guarantee that XLA will be used). Devices:\n",
            "2020-11-12 21:40:40.251396: I tensorflow/compiler/xla/service/service.cc:176]   StreamExecutor device (0): Host, Default Version\n",
            "INFO:tensorflow:Restoring parameters from /tmp/models/WaterDropSample/model.ckpt-896\n",
            "I1112 21:40:40.252501 140265394267968 saver.py:1284] Restoring parameters from /tmp/models/WaterDropSample/model.ckpt-896\n",
            "INFO:tensorflow:Running local_init_op.\n",
            "I1112 21:40:40.686655 140265394267968 session_manager.py:500] Running local_init_op.\n",
            "INFO:tensorflow:Done running local_init_op.\n",
            "I1112 21:40:40.733649 140265394267968 session_manager.py:502] Done running local_init_op.\n",
            "I1112 21:41:45.366253 140265394267968 train.py:469] Saving: /tmp/rollouts/WaterDropSample/rollout_test_0.pkl.\n",
            "I1112 21:45:26.344596 140265394267968 train.py:469] Saving: /tmp/rollouts/WaterDropSample/rollout_test_1.pkl.\n"
          ],
          "name": "stdout"
        }
      ]
    },
    {
      "cell_type": "markdown",
      "metadata": {
        "id": "9ALmyAC8apUv"
      },
      "source": [
        "Plot a trayectory"
      ]
    },
    {
      "cell_type": "code",
      "metadata": {
        "id": "ooMeiZGsapzN",
        "colab": {
          "base_uri": "https://localhost:8080/"
        },
        "outputId": "68580e84-08b6-44af-8c0e-85483c90a99b"
      },
      "source": [
        "! python -m learning_to_simulate.render_rollout \\\n",
        "    --rollout_path=/tmp/rollouts/WaterDropSample/rollout_test_0.pkl"
      ],
      "execution_count": null,
      "outputs": [
        {
          "output_type": "stream",
          "text": [
            "Figure(1000x500)\r\n"
          ],
          "name": "stdout"
        }
      ]
    }
  ]
}