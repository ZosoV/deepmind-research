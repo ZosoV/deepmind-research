{
 "cells": [
  {
   "cell_type": "code",
   "execution_count": null,
   "metadata": {
    "id": "O2mgLOaigFLf"
   },
   "outputs": [],
   "source": [
    "%matplotlib inline"
   ]
  },
  {
   "cell_type": "markdown",
   "metadata": {
    "id": "E6RUqfaIIuVm"
   },
   "source": [
    "## Setting the environmental variables\n",
    "\n",
    "Here the dataset, results, and checkpoints will be saved."
   ]
  },
  {
   "cell_type": "code",
   "execution_count": null,
   "metadata": {
    "id": "GYZvgWLBIyMB"
   },
   "outputs": [],
   "source": [
    "%env INFO_DIR=/home/zoso/Documents/deepmind-research/information"
   ]
  },
  {
   "cell_type": "markdown",
   "metadata": {
    "id": "3Qxcos_6X89z"
   },
   "source": [
    "Install Requierements and Create Directories"
   ]
  },
  {
   "cell_type": "code",
   "execution_count": null,
   "metadata": {
    "id": "KyIky7PGXwG3"
   },
   "outputs": [],
   "source": [
    "! pip install -r learning_to_simulate/requirements.txt"
   ]
  },
  {
   "cell_type": "code",
   "execution_count": null,
   "metadata": {
    "id": "PJZhf7SoJRfN"
   },
   "outputs": [],
   "source": [
    "! mkdir -p $INFO_DIR/rollous"
   ]
  },
  {
   "cell_type": "markdown",
   "metadata": {
    "id": "-hiRqa_4aQ4z"
   },
   "source": [
    "Download dataset (e.g. WaterRamps):"
   ]
  },
  {
   "cell_type": "code",
   "execution_count": null,
   "metadata": {
    "id": "WkNlENyvaSp_"
   },
   "outputs": [],
   "source": [
    "! mkdir -p $INFO_DIR/datasets\n",
    "! bash ./learning_to_simulate/download_dataset.sh WaterDropSample $INFO_DIR/datasets"
   ]
  },
  {
   "cell_type": "markdown",
   "metadata": {
    "id": "MSYT9ofuYKP0"
   },
   "source": [
    "Train Model"
   ]
  },
  {
   "cell_type": "code",
   "execution_count": null,
   "metadata": {
    "colab": {
     "base_uri": "https://localhost:8080/"
    },
    "id": "f8gsrKhlZJ_a",
    "outputId": "b8b85744-e19d-43f8-9ca2-82460d6e212f"
   },
   "outputs": [
    {
     "name": "stdout",
     "output_type": "stream",
     "text": [
      "WaterDropSample\r\n"
     ]
    }
   ],
   "source": [
    "! ls $INFO_DIR/datasets/"
   ]
  },
  {
   "cell_type": "code",
   "execution_count": null,
   "metadata": {
    "id": "MF-vgf6iYMZn"
   },
   "outputs": [],
   "source": [
    "! mkdir -p $INFO_DIR/models\n",
    "! python -m learning_to_simulate.train \\\n",
    "    --data_path=$INFO_DIR/datasets/WaterDropSample \\\n",
    "    --model_path=$INFO_DIR/models/WaterDropSample"
   ]
  },
  {
   "cell_type": "markdown",
   "metadata": {
    "id": "S0Azdt0Zacy5"
   },
   "source": [
    "Generate some trajectory rollouts on the test set:\n"
   ]
  },
  {
   "cell_type": "code",
   "execution_count": null,
   "metadata": {
    "id": "9yo_en3xackT"
   },
   "outputs": [],
   "source": [
    "! mkdir -p $INFO_DIR/rollouts\n",
    "! python -m learning_to_simulate.train \\\n",
    "    --mode=\"eval_rollout\" \\\n",
    "    --data_path=$INFO_DIR/datasets/WaterDropSample \\\n",
    "    --model_path=$INFO_DIR/models/WaterDropSample \\\n",
    "    --output_path=$INFO_DIR/rollouts/WaterDropSample"
   ]
  },
  {
   "cell_type": "markdown",
   "metadata": {
    "id": "9ALmyAC8apUv"
   },
   "source": [
    "Plot a trayectory"
   ]
  },
  {
   "cell_type": "markdown",
   "metadata": {
    "id": "6xhHhR_YfpXP"
   },
   "source": [
    "Run this line from command line to see the results\n",
    "\n",
    "```\n",
    "INFO_DIR=/home/zoso/Documents/deepmind-research/information &&\n",
    "python -m learning_to_simulate.render_rollout \\\n",
    "    --rollout_path=$INFO_DIR/rollouts/WaterDropSample/rollout_test_0.pkl\n",
    "```\n",
    "\n"
   ]
  },
  {
   "cell_type": "code",
   "execution_count": 8,
   "metadata": {
    "colab": {
     "base_uri": "https://localhost:8080/",
     "height": 304
    },
    "id": "Vh_BkynZe-Xu",
    "outputId": "b85a171e-eca9-42e6-da4a-6675ba4cfc10"
   },
   "outputs": [
    {
     "data": {
      "image/png": "[encoded data removed]",
      "text/plain": [
       "<Figure size 720x360 with 2 Axes>"
      ]
     },
     "metadata": {},
     "output_type": "display_data"
    }
   ],
   "source": [
    "%run -m learning_to_simulate.render_rollout \\\n",
    "    -- --rollout_path=/home/zoso/Documents/deepmind-research/information/rollouts/WaterDropSample/rollout_test_0.pkl"
   ]
  }
 ],
 "metadata": {
  "colab": {
   "collapsed_sections": [],
   "name": "Copia de DemoMainPaper.ipynb",
   "provenance": []
  },
  "kernelspec": {
   "display_name": "Python 3",
   "language": "python",
   "name": "python3"
  },
  "language_info": {
   "codemirror_mode": {
    "name": "ipython",
    "version": 3
   },
   "file_extension": ".py",
   "mimetype": "text/x-python",
   "name": "python",
   "nbconvert_exporter": "python",
   "pygments_lexer": "ipython3",
   "version": "3.6.9"
  }
 },
 "nbformat": 4,
 "nbformat_minor": 1
}
